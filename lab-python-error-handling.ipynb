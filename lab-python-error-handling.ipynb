{
 "cells": [
  {
   "cell_type": "markdown",
   "id": "25d7736c-ba17-4aff-b6bb-66eba20fbf4e",
   "metadata": {},
   "source": [
    "# Lab | Error Handling"
   ]
  },
  {
   "cell_type": "markdown",
   "id": "bc99b386-7508-47a0-bcdb-d969deaf6c8b",
   "metadata": {},
   "source": [
    "## Exercise: Error Handling for Managing Customer Orders\n",
    "\n",
    "The implementation of your code for managing customer orders assumes that the user will always enter a valid input. \n",
    "\n",
    "For example, we could modify the `initialize_inventory` function to include error handling.\n",
    "   - If the user enters an invalid quantity (e.g., a negative value or a non-numeric value), display an error message and ask them to re-enter the quantity for that product.\n",
    "   - Use a try-except block to handle the error and continue prompting the user until a valid quantity is entered.\n",
    "\n",
    "```python\n",
    "# Step 1: Define the function for initializing the inventory with error handling\n",
    "def initialize_inventory(products):\n",
    "    inventory = {}\n",
    "    for product in products:\n",
    "        valid_quantity = False\n",
    "        while not valid_quantity:\n",
    "            try:\n",
    "                quantity = int(input(f\"Enter the quantity of {product}s available: \"))\n",
    "                if quantity < 0:\n",
    "                    raise ValueError(\"Invalid quantity! Please enter a non-negative value.\")\n",
    "                valid_quantity = True\n",
    "            except ValueError as error:\n",
    "                print(f\"Error: {error}\")\n",
    "        inventory[product] = quantity\n",
    "    return inventory\n",
    "\n",
    "# Or, in another way:\n",
    "\n",
    "def initialize_inventory(products):\n",
    "    inventory = {}\n",
    "    for product in products:\n",
    "        valid_input = False\n",
    "        while not valid_input:\n",
    "            try:\n",
    "                quantity = int(input(f\"Enter the quantity of {product}s available: \"))\n",
    "                if quantity >= 0:\n",
    "                    inventory[product] = quantity\n",
    "                    valid_input = True\n",
    "                else:\n",
    "                    print(\"Quantity cannot be negative. Please enter a valid quantity.\")\n",
    "            except ValueError:\n",
    "                print(\"Invalid input. Please enter a valid quantity.\")\n",
    "    return inventory\n",
    "```\n",
    "\n",
    "Let's enhance your code by implementing error handling to handle invalid inputs.\n",
    "\n",
    "Follow the steps below to complete the exercise:\n",
    "\n",
    "2. Modify the `calculate_total_price` function to include error handling.\n",
    "   - If the user enters an invalid price (e.g., a negative value or a non-numeric value), display an error message and ask them to re-enter the price for that product.\n",
    "   - Use a try-except block to handle the error and continue prompting the user until a valid price is entered.\n",
    "\n",
    "3. Modify the `get_customer_orders` function to include error handling.\n",
    "   - If the user enters an invalid number of orders (e.g., a negative value or a non-numeric value), display an error message and ask them to re-enter the number of orders.\n",
    "   - If the user enters an invalid product name (e.g., a product name that is not in the inventory), or that doesn't have stock available, display an error message and ask them to re-enter the product name. *Hint: you will need to pass inventory as a parameter*\n",
    "   - Use a try-except block to handle the error and continue prompting the user until a valid product name is entered.\n",
    "\n",
    "4. Test your code by running the program and deliberately entering invalid quantities and product names. Make sure the error handling mechanism works as expected.\n"
   ]
  },
  {
   "cell_type": "code",
   "execution_count": 16,
   "id": "ee649280-3500-4308-9615-b356f08bb484",
   "metadata": {},
   "outputs": [
    {
     "name": "stdin",
     "output_type": "stream",
     "text": [
      "Enter the quantity of t-shirts available:  200\n",
      "Enter the quantity of mugs available:  200\n",
      "Enter the quantity of keychains available:  200\n",
      "Enter the quantity of hats available:  200\n",
      "Enter the quantity of books available:  200\n"
     ]
    }
   ],
   "source": [
    "products = ['t-shirt', 'mug', 'keychain', 'hat', 'book']\n",
    "# Step 1: Define the function for initializing the inventory with error handling\n",
    "def initialize_inventory(products):\n",
    "    inventory = {}\n",
    "    for product in products:\n",
    "        valid_quantity = False\n",
    "        while not valid_quantity:\n",
    "            try:\n",
    "                quantity = int(input(f\"Enter the quantity of {product}s available: \"))\n",
    "                if quantity < 0:\n",
    "                    raise ValueError(\"Invalid quantity! Please enter a non-negative value.\")\n",
    "                valid_quantity = True\n",
    "            except ValueError as error:\n",
    "                print(f\"Error: {error}\")\n",
    "        inventory[product] = quantity\n",
    "    return inventory\n",
    "inventory = initialize_inventory(products)\n"
   ]
  },
  {
   "cell_type": "code",
   "execution_count": 20,
   "id": "2dba59e3-6d4b-433f-9c96-9e3cbb7a2a88",
   "metadata": {},
   "outputs": [
    {
     "name": "stdin",
     "output_type": "stream",
     "text": [
      "Enter the price of t-shirt:  10\n",
      "Enter the price of mug:  10\n",
      "Enter the price of keychain:  5\n",
      "Enter the price of hat:  10\n",
      "Enter the price of book:  10\n"
     ]
    }
   ],
   "source": [
    "def calculate_total_price(inventory):\n",
    "    total_price = 0 \n",
    "    for product in inventory:\n",
    "        valid_input = False\n",
    "        while not valid_input:\n",
    "            try:\n",
    "                price = float(input(f\"Enter the price of {product}: \"))\n",
    "                if price > 0:\n",
    "                    total_price += price * inventory[product]  # Multiply price by quantity\n",
    "                    valid_input = True\n",
    "                else:\n",
    "                    print(\"Price cannot be negative or zero. Please enter a valid price.\")\n",
    "            except ValueError:\n",
    "                print(\"Invalid input. Please enter a numeric value.\")\n",
    "    return total_price\n",
    "    \n",
    "total_price = calculate_total_price(inventory)\n",
    "\n"
   ]
  },
  {
   "cell_type": "code",
   "execution_count": 24,
   "id": "522a4e0b-b19a-456b-963e-39c4b8c0d159",
   "metadata": {},
   "outputs": [
    {
     "name": "stdin",
     "output_type": "stream",
     "text": [
      "Enter the number of different products you want to order:  4\n",
      "Enter the product name:  t-shirt\n",
      "Enter quantity of t-shirts:  4\n",
      "Enter the product name:  mug\n",
      "Enter quantity of mugs:  1\n",
      "Enter the product name:  keychain\n",
      "Enter quantity of keychains:  8\n",
      "Enter the product name:  book\n",
      "Enter quantity of books:  4\n"
     ]
    }
   ],
   "source": [
    "def get_customer_orders(inventory):\n",
    "    orders = {}\n",
    "    valid_orders = False\n",
    "    while not valid_orders:\n",
    "        try:\n",
    "            num_orders = int(input(\"Enter the number of different products you want to order: \"))\n",
    "            if num_orders < 0:\n",
    "                print(\"Number of orders cannot be negative. Please enter a valid number.\")\n",
    "                continue\n",
    "            \n",
    "            for product in range(num_orders):\n",
    "                valid_product = False\n",
    "                while not valid_product:\n",
    "                    product = input(\"Enter the product name: \").strip().lower()\n",
    "                    if product in inventory and inventory[product] > 0:\n",
    "                        valid_quantity = False\n",
    "                        while not valid_quantity:\n",
    "                            try:\n",
    "                                quantity = int(input(f\"Enter quantity of {product}s: \"))\n",
    "                                if 0 <= quantity <= inventory[product]:\n",
    "                                    orders[product] = quantity\n",
    "                                    valid_quantity = True\n",
    "                                else:\n",
    "                                    print(\"Invalid quantity. Please enter a valid amount.\")\n",
    "                            except ValueError:\n",
    "                                print(\"Invalid input. Please enter a number.\")\n",
    "                        valid_product = True\n",
    "                    else:\n",
    "                        print(\"Invalid product or out of stock. Please enter a valid product.\")\n",
    "            \n",
    "            valid_orders = True\n",
    "        except ValueError:\n",
    "            print(\"Invalid input. Please enter a numeric value.\")\n",
    "    \n",
    "    return orders\n",
    "orders = get_customer_orders(inventory)"
   ]
  },
  {
   "cell_type": "code",
   "execution_count": null,
   "id": "0d22de82-657d-44b7-9852-40a8ccbcb7cc",
   "metadata": {},
   "outputs": [],
   "source": []
  }
 ],
 "metadata": {
  "kernelspec": {
   "display_name": "Python [conda env:base] *",
   "language": "python",
   "name": "conda-base-py"
  },
  "language_info": {
   "codemirror_mode": {
    "name": "ipython",
    "version": 3
   },
   "file_extension": ".py",
   "mimetype": "text/x-python",
   "name": "python",
   "nbconvert_exporter": "python",
   "pygments_lexer": "ipython3",
   "version": "3.12.7"
  }
 },
 "nbformat": 4,
 "nbformat_minor": 5
}
